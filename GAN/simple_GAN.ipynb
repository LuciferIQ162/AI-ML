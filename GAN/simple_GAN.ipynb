{
 "cells": [
  {
   "cell_type": "markdown",
   "id": "06721324",
   "metadata": {},
   "source": [
    "# Implementing a simple GAN using keras\n"
   ]
  },
  {
   "cell_type": "markdown",
   "id": "b331656c",
   "metadata": {},
   "source": [
    "# Importing the libs "
   ]
  },
  {
   "cell_type": "code",
   "execution_count": 25,
   "id": "ad458499",
   "metadata": {},
   "outputs": [],
   "source": [
    "from tensorflow.keras.layers import LeakyReLU, Dense, Input\n",
    "import tensorflow as tf\n",
    "from tensorflow.keras.models import Model"
   ]
  },
  {
   "cell_type": "markdown",
   "id": "b46ffc28",
   "metadata": {},
   "source": [
    "# defining the generator and discriminant model "
   ]
  },
  {
   "cell_type": "code",
   "execution_count": 28,
   "id": "b6ea10ca",
   "metadata": {},
   "outputs": [],
   "source": [
    "#define the generator model\n",
    "def build_generator():\n",
    "    model = tf.keras.Sequential()\n",
    "    model.add(Dense(128, input_dim=100))\n",
    "    model.add(LeakyReLU(alpha=0.01))\n",
    "    model.add(Dense(784,activation='tanh'))\n",
    "    return model\n",
    "\n",
    "#define the discriminant model\n",
    "def build_discriminator():\n",
    "    model = tf.keras.Sequential()\n",
    "    model.add(Dense(128, input_shape=(784,)))\n",
    "    model.add(LeakyReLU(alpha=0.01))\n",
    "    model.add(Dense(1, activation='sigmoid'))\n",
    "    return model"
   ]
  },
  {
   "cell_type": "markdown",
   "id": "3d550ea7",
   "metadata": {},
   "source": [
    "# Building the generator"
   ]
  },
  {
   "cell_type": "code",
   "execution_count": 29,
   "id": "af102f0b",
   "metadata": {},
   "outputs": [
    {
     "name": "stderr",
     "output_type": "stream",
     "text": [
      "/home/shobhit/.local/lib/python3.9/site-packages/keras/src/layers/core/dense.py:93: UserWarning: Do not pass an `input_shape`/`input_dim` argument to a layer. When using Sequential models, prefer using an `Input(shape)` object as the first layer in the model instead.\n",
      "  super().__init__(activity_regularizer=activity_regularizer, **kwargs)\n",
      "/home/shobhit/.local/lib/python3.9/site-packages/keras/src/layers/activations/leaky_relu.py:41: UserWarning: Argument `alpha` is deprecated. Use `negative_slope` instead.\n",
      "  warnings.warn(\n"
     ]
    }
   ],
   "source": [
    "#build the generator\n",
    "generator = build_generator()"
   ]
  },
  {
   "cell_type": "markdown",
   "id": "65ac2bb2",
   "metadata": {},
   "source": [
    "# Building and compile the discriminator"
   ]
  },
  {
   "cell_type": "code",
   "execution_count": 30,
   "id": "65dda63b",
   "metadata": {},
   "outputs": [],
   "source": [
    "# build and compile the discriminator\n",
    "discriminator = build_discriminator()\n",
    "discriminator.compile(optimizer='adam',\n",
    "                      loss='binary_crossentropy',\n",
    "                      metrics=['accuracy'])\n"
   ]
  },
  {
   "cell_type": "code",
   "execution_count": null,
   "id": "f2130fdb",
   "metadata": {},
   "outputs": [],
   "source": [
    "# Create the GAN by combining the generator and discriminator\n",
    "discriminator.trainiable = False\n",
    "gan_input = Input(shape=(100,))\n",
    "generated_images = generator(gan_input)\n",
    "gan_output = discriminator(generated_images)\n",
    "gan = Model(gan_input, gan_output)\n"
   ]
  },
  {
   "cell_type": "code",
   "execution_count": 32,
   "id": "87ea55ee",
   "metadata": {},
   "outputs": [],
   "source": [
    "#compile the GAN\n",
    "gan.compile(optimizer='adam', loss='binary_crossentropy')"
   ]
  },
  {
   "cell_type": "markdown",
   "id": "ca6b545a",
   "metadata": {},
   "source": [
    "# training the GAN"
   ]
  },
  {
   "cell_type": "code",
   "execution_count": 34,
   "id": "422f2a44",
   "metadata": {},
   "outputs": [],
   "source": [
    "def train_gan(gan, generator, discriminator, X_train, epochs = 400, batch_size=128):\n",
    "\n",
    "    #loop through epochs\n",
    "    for epoch in range(epochs):\n",
    "        #generate random noise as input for the generator\n",
    "        noise = np.random.normal(0, 1, (batch_size, 100))\n",
    "        generated_images = generator.predict(noise)\n",
    "\n",
    "        #get a random set of real images\n",
    "        idz = np.random.randint(0, X_train.shape[0], batch_size)\n",
    "        real_images = X_train[idz]\n",
    "\n",
    "        #label for the real and fake images\n",
    "        real_labels = np.ones((batch_size, 1))\n",
    "        fake_labels = np.zeros((batch_size, 1))\n",
    "\n",
    "\n",
    "        #train the discriminator on real and fake images separately\n",
    "        d_loss_real = discriminator.train_on_batch(real_images, real_labels)\n",
    "        d_loss_fake = discriminator.train_on_batch(generates_images, fake_labels)\n",
    "\n",
    "        #calculate the average loss fot the disciminator\n",
    "        d_loss = 0.5 * np.add(d_loss_real, d_loss_fake)\n",
    "\n",
    "        #generate new noise and train the generator through the GAN model (note\n",
    "        #we train the generator via the GAN model, where the discriminator\n",
    "        #weights are frozen)\n",
    "        noise = np.random.normal(0, 1, (batch_size, 100))\n",
    "        g_loss = gan.train_on_batch(noise, real_labels, return_dict=True)\n",
    "\n",
    "        #print the progress every 10 epochs\n",
    "        if epoch % 10 == 0:\n",
    "            print(f\"Epoch {epoch} - Discriminator Loss: {d_loss[0]}\",\n",
    "                  f\"Generator loss: {g_loss['loss']}\")\n",
    "\n",
    "        return d_loss, g_loss"
   ]
  }
 ],
 "metadata": {
  "kernelspec": {
   "display_name": "Python 3",
   "language": "python",
   "name": "python3"
  },
  "language_info": {
   "codemirror_mode": {
    "name": "ipython",
    "version": 3
   },
   "file_extension": ".py",
   "mimetype": "text/x-python",
   "name": "python",
   "nbconvert_exporter": "python",
   "pygments_lexer": "ipython3",
   "version": "3.9.23"
  }
 },
 "nbformat": 4,
 "nbformat_minor": 5
}
