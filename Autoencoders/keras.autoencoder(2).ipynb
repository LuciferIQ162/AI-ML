{
 "cells": [
  {
   "cell_type": "markdown",
   "id": "9e84e176",
   "metadata": {},
   "source": [
    "# Importing the libs"
   ]
  },
  {
   "cell_type": "code",
   "execution_count": 5,
   "id": "b95fd8b4",
   "metadata": {},
   "outputs": [],
   "source": [
    "import tensorflow as tf\n",
    "from tensorflow.keras.models import Model\n",
    "from tensorflow.keras.layers import Input, Dense\n",
    "from tensorflow.keras.datasets import mnist\n",
    "import numpy as np\n",
    "\n"
   ]
  },
  {
   "cell_type": "markdown",
   "id": "a42c016f",
   "metadata": {},
   "source": [
    "building the model"
   ]
  },
  {
   "cell_type": "code",
   "execution_count": null,
   "id": "a9b6cf9d",
   "metadata": {},
   "outputs": [],
   "source": [
    "#encoder\n",
    "input_layer = Input(shape=(784,))\n",
    "encoded = Dense(64, activation='relu')(input_layer)\n",
    "\n",
    "#bottleneck\n",
    "bottleneck = Dense(32, activation='relu')(encoded)\n",
    "\n",
    "#decoder\n",
    "decoded = Dense(64, activation='relu')(bottleneck)\n",
    "output_layer = Dense(784, activation='sigmoid')(decoded)\n",
    "\n",
    "#autoencoder model\n",
    "autoencoder = Model(input_layer, output_layer)\n",
    "\n",
    "#compile the model\n",
    "autoencoder.compile(optimizer='adam', loss='binary_crossentropy')\n",
    "\n",
    "#summary of the model\n",
    "autoencoder.summary()"
   ]
  },
  {
   "cell_type": "markdown",
   "id": "7aff88d5",
   "metadata": {},
   "source": [
    "preprocessing and training on data"
   ]
  },
  {
   "cell_type": "code",
   "execution_count": null,
   "id": "ed114cd1",
   "metadata": {},
   "outputs": [],
   "source": [
    "#load and preprocess the dataset\n",
    "(X_train, _), (X_test, _) = mnist.load_data()\n",
    "X_train = X_train.astype('float32') / 255.\n",
    "X_test = X_test.astype('float32') / 255.\n",
    "X_train = X_train.reshape((len(X_train), np.prod(X_train.shape[1:])))\n",
    "X_test = X_test.reshape((len(X_test), np.prod(X_test.shape[1:])))\n",
    "\n",
    "#Train the Model\n",
    "autoencoder.fit(X_train, X_train, epochs=50, batch_size=256,\n",
    "                                  shuffle=True,\n",
    "                                  validation_data=(X_test, X_test))\n",
    "                                "
   ]
  },
  {
   "cell_type": "markdown",
   "id": "09ff35cb",
   "metadata": {},
   "source": [
    "fine tuning and recompiling"
   ]
  },
  {
   "cell_type": "code",
   "execution_count": null,
   "id": "d219c269",
   "metadata": {},
   "outputs": [],
   "source": [
    "#unfreeze the top layers of the encoder\n",
    "for layer in autoencoder.layers[-4:]:\n",
    "    layer.trainable = True\n",
    "\n",
    "#recompile the model\n",
    "autoencoder.compile(optimizer='adam', loss='binary_crossentropy')\n",
    "\n",
    "#train the model again\n",
    "autoencoder.fit(X_train, X_train,\n",
    "                epochs=20,\n",
    "                batch_size=256,\n",
    "                shuffle=True,\n",
    "                validation_data=(X_test, X_test))"
   ]
  }
 ],
 "metadata": {
  "kernelspec": {
   "display_name": "Python 3",
   "language": "python",
   "name": "python3"
  },
  "language_info": {
   "codemirror_mode": {
    "name": "ipython",
    "version": 3
   },
   "file_extension": ".py",
   "mimetype": "text/x-python",
   "name": "python",
   "nbconvert_exporter": "python",
   "pygments_lexer": "ipython3",
   "version": "3.9.23"
  }
 },
 "nbformat": 4,
 "nbformat_minor": 5
}
